{
 "cells": [
  {
   "cell_type": "code",
   "execution_count": 1,
   "id": "13a42f7a",
   "metadata": {},
   "outputs": [
    {
     "name": "stderr",
     "output_type": "stream",
     "text": [
      "Using backend: pytorch[12:56:19] /opt/dgl/src/runtime/tensordispatch.cc\n",
      ":43: TensorDispatcher: dlopen failed: libtorch_cuda_cu.so: cannot open shared object file: No such file or directory\n"
     ]
    }
   ],
   "source": [
    "import numpy as np\n",
    "import torch\n",
    "import dgl\n",
    "\n",
    "from rdkit import Chem\n",
    "from rdkit.Chem import AllChem\n",
    "\n",
    "from tdc.single_pred import ADME"
   ]
  },
  {
   "cell_type": "markdown",
   "id": "52603523",
   "metadata": {},
   "source": [
    "# Molecular Graph Practice"
   ]
  },
  {
   "cell_type": "markdown",
   "id": "b42910b6",
   "metadata": {},
   "source": [
    "# 1. Download datasets from therapeutic Data Commonds (TDC)"
   ]
  },
  {
   "cell_type": "code",
   "execution_count": 2,
   "id": "51081704",
   "metadata": {},
   "outputs": [
    {
     "name": "stderr",
     "output_type": "stream",
     "text": [
      "Found local copy...\n",
      "Loading...\n",
      "Done!\n"
     ]
    }
   ],
   "source": [
    "dataset = ADME(name='Solubility_AqSolDB')"
   ]
  },
  {
   "cell_type": "code",
   "execution_count": 3,
   "id": "f8cfe39a",
   "metadata": {},
   "outputs": [],
   "source": [
    "split = dataset.get_split(\n",
    "    method='random',\n",
    "    seed=999,\n",
    "    frac=[0.7, 0.1, 0.2],\n",
    ")"
   ]
  },
  {
   "cell_type": "code",
   "execution_count": 4,
   "id": "5b0591c9",
   "metadata": {},
   "outputs": [],
   "source": [
    "train_set = split['train']\n",
    "valid_set = split['valid']\n",
    "test_set = split['test']"
   ]
  },
  {
   "cell_type": "code",
   "execution_count": 5,
   "id": "8d2396dc",
   "metadata": {},
   "outputs": [
    {
     "data": {
      "text/html": [
       "<div>\n",
       "<style scoped>\n",
       "    .dataframe tbody tr th:only-of-type {\n",
       "        vertical-align: middle;\n",
       "    }\n",
       "\n",
       "    .dataframe tbody tr th {\n",
       "        vertical-align: top;\n",
       "    }\n",
       "\n",
       "    .dataframe thead th {\n",
       "        text-align: right;\n",
       "    }\n",
       "</style>\n",
       "<table border=\"1\" class=\"dataframe\">\n",
       "  <thead>\n",
       "    <tr style=\"text-align: right;\">\n",
       "      <th></th>\n",
       "      <th>Drug_ID</th>\n",
       "      <th>Drug</th>\n",
       "      <th>Y</th>\n",
       "    </tr>\n",
       "  </thead>\n",
       "  <tbody>\n",
       "    <tr>\n",
       "      <th>0</th>\n",
       "      <td>N,N,N-trimethyloctadecan-1-aminium bromide</td>\n",
       "      <td>CCCCCCCCCCCCCCCCCC[N+](C)(C)C.[Br-]</td>\n",
       "      <td>-3.616127</td>\n",
       "    </tr>\n",
       "    <tr>\n",
       "      <th>1</th>\n",
       "      <td>4-chlorobenzaldehyde</td>\n",
       "      <td>O=Cc1ccc(Cl)cc1</td>\n",
       "      <td>-2.177078</td>\n",
       "    </tr>\n",
       "    <tr>\n",
       "      <th>2</th>\n",
       "      <td>zinc bis[2-hydroxy-3,5-bis(1-phenylethyl)benzo...</td>\n",
       "      <td>CC(c1ccccc1)c1cc(C(=O)[O-])c(O)c(C(C)c2ccccc2)...</td>\n",
       "      <td>-3.924409</td>\n",
       "    </tr>\n",
       "    <tr>\n",
       "      <th>3</th>\n",
       "      <td>4-({4-[bis(oxiran-2-ylmethyl)amino]phenyl}meth...</td>\n",
       "      <td>c1cc(N(CC2CO2)CC2CO2)ccc1Cc1ccc(N(CC2CO2)CC2CO...</td>\n",
       "      <td>-4.662065</td>\n",
       "    </tr>\n",
       "    <tr>\n",
       "      <th>4</th>\n",
       "      <td>vinyltoluene</td>\n",
       "      <td>C=Cc1cccc(C)c1</td>\n",
       "      <td>-3.123150</td>\n",
       "    </tr>\n",
       "    <tr>\n",
       "      <th>...</th>\n",
       "      <td>...</td>\n",
       "      <td>...</td>\n",
       "      <td>...</td>\n",
       "    </tr>\n",
       "    <tr>\n",
       "      <th>6983</th>\n",
       "      <td>sulfamethazine</td>\n",
       "      <td>Cc1cc(C)nc(NS(=O)(=O)c2ccc(N)cc2)n1</td>\n",
       "      <td>-2.730000</td>\n",
       "    </tr>\n",
       "    <tr>\n",
       "      <th>6984</th>\n",
       "      <td>sulfasalazine</td>\n",
       "      <td>O=C(O)c1cc(/N=N/c2ccc(S(=O)(=O)Nc3ccccn3)cc2)c...</td>\n",
       "      <td>-6.140000</td>\n",
       "    </tr>\n",
       "    <tr>\n",
       "      <th>6985</th>\n",
       "      <td>tetracaine</td>\n",
       "      <td>CCCCNc1ccc(C(=O)OCCN(C)C)cc1</td>\n",
       "      <td>-3.010000</td>\n",
       "    </tr>\n",
       "    <tr>\n",
       "      <th>6986</th>\n",
       "      <td>tetracycline</td>\n",
       "      <td>CN(C)[C@@H]1C(O)=C(C(N)=O)C(=O)[C@@]2(O)C(O)=C...</td>\n",
       "      <td>-2.930000</td>\n",
       "    </tr>\n",
       "    <tr>\n",
       "      <th>6987</th>\n",
       "      <td>verapamil</td>\n",
       "      <td>COc1ccc(CCN(C)CCCC(C#N)(c2ccc(OC)c(OC)c2)C(C)C...</td>\n",
       "      <td>-3.980000</td>\n",
       "    </tr>\n",
       "  </tbody>\n",
       "</table>\n",
       "<p>6988 rows × 3 columns</p>\n",
       "</div>"
      ],
      "text/plain": [
       "                                                Drug_ID  \\\n",
       "0            N,N,N-trimethyloctadecan-1-aminium bromide   \n",
       "1                                  4-chlorobenzaldehyde   \n",
       "2     zinc bis[2-hydroxy-3,5-bis(1-phenylethyl)benzo...   \n",
       "3     4-({4-[bis(oxiran-2-ylmethyl)amino]phenyl}meth...   \n",
       "4                                          vinyltoluene   \n",
       "...                                                 ...   \n",
       "6983                                     sulfamethazine   \n",
       "6984                                      sulfasalazine   \n",
       "6985                                         tetracaine   \n",
       "6986                                       tetracycline   \n",
       "6987                                          verapamil   \n",
       "\n",
       "                                                   Drug         Y  \n",
       "0                   CCCCCCCCCCCCCCCCCC[N+](C)(C)C.[Br-] -3.616127  \n",
       "1                                       O=Cc1ccc(Cl)cc1 -2.177078  \n",
       "2     CC(c1ccccc1)c1cc(C(=O)[O-])c(O)c(C(C)c2ccccc2)... -3.924409  \n",
       "3     c1cc(N(CC2CO2)CC2CO2)ccc1Cc1ccc(N(CC2CO2)CC2CO... -4.662065  \n",
       "4                                        C=Cc1cccc(C)c1 -3.123150  \n",
       "...                                                 ...       ...  \n",
       "6983                Cc1cc(C)nc(NS(=O)(=O)c2ccc(N)cc2)n1 -2.730000  \n",
       "6984  O=C(O)c1cc(/N=N/c2ccc(S(=O)(=O)Nc3ccccn3)cc2)c... -6.140000  \n",
       "6985                       CCCCNc1ccc(C(=O)OCCN(C)C)cc1 -3.010000  \n",
       "6986  CN(C)[C@@H]1C(O)=C(C(N)=O)C(=O)[C@@]2(O)C(O)=C... -2.930000  \n",
       "6987  COc1ccc(CCN(C)CCCC(C#N)(c2ccc(OC)c(OC)c2)C(C)C... -3.980000  \n",
       "\n",
       "[6988 rows x 3 columns]"
      ]
     },
     "execution_count": 5,
     "metadata": {},
     "output_type": "execute_result"
    }
   ],
   "source": [
    "train_set"
   ]
  },
  {
   "cell_type": "code",
   "execution_count": 6,
   "id": "c4ea5457",
   "metadata": {},
   "outputs": [],
   "source": [
    "smi_train = list(train_set['Drug'])\n",
    "label_train = list(train_set['Y'])"
   ]
  },
  {
   "cell_type": "code",
   "execution_count": 7,
   "id": "f8144afe",
   "metadata": {},
   "outputs": [
    {
     "data": {
      "text/plain": [
       "'CCCCCCCCCCCCCCCCCC[N+](C)(C)C.[Br-]'"
      ]
     },
     "execution_count": 7,
     "metadata": {},
     "output_type": "execute_result"
    }
   ],
   "source": [
    "smi_train[0]"
   ]
  },
  {
   "cell_type": "code",
   "execution_count": 8,
   "id": "3277eff0",
   "metadata": {},
   "outputs": [
    {
     "data": {
      "text/plain": [
       "-3.6161271205"
      ]
     },
     "execution_count": 8,
     "metadata": {},
     "output_type": "execute_result"
    }
   ],
   "source": [
    "label_train[0]"
   ]
  },
  {
   "cell_type": "markdown",
   "id": "64bea007",
   "metadata": {},
   "source": [
    "# 2. Visualize molecules"
   ]
  },
  {
   "cell_type": "code",
   "execution_count": 9,
   "id": "6b604de2",
   "metadata": {},
   "outputs": [
    {
     "data": {
      "image/png": "[encoded data removed]",
      "text/plain": [
       "<rdkit.Chem.rdchem.Mol at 0x154b8ea7e710>"
      ]
     },
     "execution_count": 9,
     "metadata": {},
     "output_type": "execute_result"
    }
   ],
   "source": [
    "mol = Chem.MolFromSmiles(smi_train[0])\n",
    "mol"
   ]
  },
  {
   "cell_type": "code",
   "execution_count": 10,
   "id": "8fc458a0",
   "metadata": {},
   "outputs": [
    {
     "data": {
      "image/png": "[encoded data removed]",
      "text/plain": [
       "<rdkit.Chem.rdchem.Mol at 0x154b8ea40bc0>"
      ]
     },
     "execution_count": 10,
     "metadata": {},
     "output_type": "execute_result"
    }
   ],
   "source": [
    "mol = Chem.MolFromSmiles(smi_train[-1])\n",
    "mol"
   ]
  },
  {
   "cell_type": "markdown",
   "id": "ff156b2d",
   "metadata": {},
   "source": [
    "# 3. Investiagate how can we featurize molecular structure"
   ]
  },
  {
   "cell_type": "markdown",
   "id": "f2ccefbf",
   "metadata": {},
   "source": [
    "## 1) Atom (node) features \n",
    "* Atom symbol -- ex) carbon: C, oxygen: O\n",
    "* Atom degree\n",
    "* Number of hydrogens attatched to a given atom (implicit hydrogen model)\n",
    "* Implicit valence \n",
    "* Whether a given atom has an aromatic character or not"
   ]
  },
  {
   "cell_type": "code",
   "execution_count": 11,
   "id": "3772986b",
   "metadata": {},
   "outputs": [
    {
     "data": {
      "text/plain": [
       "33"
      ]
     },
     "execution_count": 11,
     "metadata": {},
     "output_type": "execute_result"
    }
   ],
   "source": [
    "atom_list = mol.GetAtoms()\n",
    "num_atoms = len(atom_list)\n",
    "num_atoms"
   ]
  },
  {
   "cell_type": "code",
   "execution_count": 12,
   "id": "b7709ec8",
   "metadata": {},
   "outputs": [],
   "source": [
    "atom_ = atom_list[0]"
   ]
  },
  {
   "cell_type": "code",
   "execution_count": 13,
   "id": "294b1468",
   "metadata": {},
   "outputs": [
    {
     "data": {
      "text/plain": [
       "<rdkit.Chem.rdchem.Atom at 0x154b8ea06300>"
      ]
     },
     "execution_count": 13,
     "metadata": {},
     "output_type": "execute_result"
    }
   ],
   "source": [
    "atom_"
   ]
  },
  {
   "cell_type": "code",
   "execution_count": 14,
   "id": "9bb31c3c",
   "metadata": {},
   "outputs": [
    {
     "data": {
      "text/plain": [
       "'C'"
      ]
     },
     "execution_count": 14,
     "metadata": {},
     "output_type": "execute_result"
    }
   ],
   "source": [
    "atom_.GetSymbol()"
   ]
  },
  {
   "cell_type": "code",
   "execution_count": 15,
   "id": "de0d21ae",
   "metadata": {},
   "outputs": [
    {
     "data": {
      "text/plain": [
       "1"
      ]
     },
     "execution_count": 15,
     "metadata": {},
     "output_type": "execute_result"
    }
   ],
   "source": [
    "atom_.GetDegree()"
   ]
  },
  {
   "cell_type": "code",
   "execution_count": 16,
   "id": "86f5c39f",
   "metadata": {},
   "outputs": [
    {
     "data": {
      "text/plain": [
       "3"
      ]
     },
     "execution_count": 16,
     "metadata": {},
     "output_type": "execute_result"
    }
   ],
   "source": [
    "atom_.GetTotalNumHs()"
   ]
  },
  {
   "cell_type": "code",
   "execution_count": 17,
   "id": "0f5652bc",
   "metadata": {},
   "outputs": [
    {
     "data": {
      "text/plain": [
       "3"
      ]
     },
     "execution_count": 17,
     "metadata": {},
     "output_type": "execute_result"
    }
   ],
   "source": [
    "atom_.GetImplicitValence()"
   ]
  },
  {
   "cell_type": "code",
   "execution_count": 18,
   "id": "a9a71fef",
   "metadata": {},
   "outputs": [
    {
     "data": {
      "text/plain": [
       "False"
      ]
     },
     "execution_count": 18,
     "metadata": {},
     "output_type": "execute_result"
    }
   ],
   "source": [
    "atom_.GetIsAromatic()"
   ]
  },
  {
   "cell_type": "markdown",
   "id": "e6dbf3e2",
   "metadata": {},
   "source": [
    "## 1) Bond (edge) features \n",
    "* Bond types -- Single, Double, Triple, Aromatic\n",
    "* Whether a given bond is conjugated or not\n",
    "* Whether a given bond has a ring character"
   ]
  },
  {
   "cell_type": "code",
   "execution_count": 19,
   "id": "b76d2104",
   "metadata": {},
   "outputs": [
    {
     "data": {
      "text/plain": [
       "34"
      ]
     },
     "execution_count": 19,
     "metadata": {},
     "output_type": "execute_result"
    }
   ],
   "source": [
    "bond_list = mol.GetBonds()\n",
    "num_bonds = len(bond_list)\n",
    "num_bonds"
   ]
  },
  {
   "cell_type": "code",
   "execution_count": 20,
   "id": "c87d7f7d",
   "metadata": {},
   "outputs": [],
   "source": [
    "bond_ = bond_list[0]"
   ]
  },
  {
   "cell_type": "code",
   "execution_count": 21,
   "id": "c1275559",
   "metadata": {},
   "outputs": [
    {
     "data": {
      "text/plain": [
       "rdkit.Chem.rdchem.BondType.SINGLE"
      ]
     },
     "execution_count": 21,
     "metadata": {},
     "output_type": "execute_result"
    }
   ],
   "source": [
    "bond_.GetBondType()"
   ]
  },
  {
   "cell_type": "code",
   "execution_count": 22,
   "id": "48e45968",
   "metadata": {},
   "outputs": [
    {
     "data": {
      "text/plain": [
       "False"
      ]
     },
     "execution_count": 22,
     "metadata": {},
     "output_type": "execute_result"
    }
   ],
   "source": [
    "bond_.GetIsConjugated()"
   ]
  },
  {
   "cell_type": "code",
   "execution_count": 23,
   "id": "5715384b",
   "metadata": {},
   "outputs": [
    {
     "data": {
      "text/plain": [
       "False"
      ]
     },
     "execution_count": 23,
     "metadata": {},
     "output_type": "execute_result"
    }
   ],
   "source": [
    "bond_.IsInRing()"
   ]
  },
  {
   "cell_type": "markdown",
   "id": "e0a44354",
   "metadata": {},
   "source": [
    "# 4. Put them altogether -- define a series of functions that featurize molecular graph"
   ]
  },
  {
   "cell_type": "code",
   "execution_count": 24,
   "id": "59f60eed",
   "metadata": {},
   "outputs": [],
   "source": [
    "# GLOBAL VARIABLE\n",
    "ATOM_VOCAB = [\n",
    "    'C', 'N', 'O', 'S', 'F',\n",
    "    'H', 'Si', 'P', 'Cl', 'Br',\n",
    "    'Li', 'Na', 'K', 'Mg', 'Ca',\n",
    "    'Fe', 'As', 'Al', 'I', 'B',\n",
    "    'V', 'Tl', 'Sb', 'Sn', 'Ag',\n",
    "    'Pd', 'Co', 'Se', 'Ti', 'Zn',\n",
    "    'Ge', 'Cu', 'Au', 'Ni', 'Cd',\n",
    "    'Mn', 'Cr', 'Pt', 'Hg', 'Pb',\n",
    "]"
   ]
  },
  {
   "cell_type": "code",
   "execution_count": 25,
   "id": "5e3b92d2",
   "metadata": {},
   "outputs": [],
   "source": [
    "def one_of_k_encoding(x, vocab):\n",
    "    if x not in vocab:\n",
    "        x = vocab[-1]\n",
    "    return list(map(lambda s: float(x==s), vocab))"
   ]
  },
  {
   "cell_type": "code",
   "execution_count": 26,
   "id": "c8ba797f",
   "metadata": {},
   "outputs": [],
   "source": [
    "def get_atom_feature(atom):\n",
    "    atom_feature = one_of_k_encoding(atom.GetSymbol(), ATOM_VOCAB)\n",
    "    atom_feature += one_of_k_encoding(atom.GetDegree(), [0, 1, 2, 3, 4, 5])\n",
    "    atom_feature += one_of_k_encoding(atom.GetTotalNumHs(), [0, 1, 2, 3, 4])\n",
    "    atom_feature += one_of_k_encoding(atom.GetImplicitValence(), [0, 1, 2, 3, 4, 5])\n",
    "    atom_feature += [atom.GetIsAromatic()]\n",
    "    return atom_feature"
   ]
  },
  {
   "cell_type": "code",
   "execution_count": 27,
   "id": "8034abe3",
   "metadata": {},
   "outputs": [],
   "source": [
    "def get_bond_feature(bond):\n",
    "    bt = bond.GetBondType()\n",
    "    bond_feature = [\n",
    "        bt == Chem.rdchem.BondType.SINGLE,\n",
    "        bt == Chem.rdchem.BondType.DOUBLE,\n",
    "        bt == Chem.rdchem.BondType.TRIPLE,\n",
    "        bt == Chem.rdchem.BondType.AROMATIC,\n",
    "        bond.GetIsConjugated(),\n",
    "        bond.IsInRing()\n",
    "    ]\n",
    "    return bond_feature"
   ]
  },
  {
   "cell_type": "code",
   "execution_count": 28,
   "id": "2fafa31c",
   "metadata": {},
   "outputs": [],
   "source": [
    "def get_molecular_graph(smi):\n",
    "    mol = Chem.MolFromSmiles(smi)\n",
    "    graph = dgl.DGLGraph()\n",
    "    \n",
    "    atom_list = mol.GetAtoms()\n",
    "    num_atoms = len(atom_list)\n",
    "    graph.add_nodes(num_atoms)\n",
    "    \n",
    "    atom_feature_list = [get_atom_feature(atom) for atom in atom_list]\n",
    "    atom_feature_list = torch.tensor(atom_feature_list, dtype=torch.float64)\n",
    "    graph.ndata['h'] = atom_feature_list\n",
    " \n",
    "    bond_list = mol.GetBonds()\n",
    "    bond_feature_list = []\n",
    "    for bond in bond_list:\n",
    "        bond_feature = get_bond_feature(bond)\n",
    "        \n",
    "        src = bond.GetBeginAtom().GetIdx()\n",
    "        dst = bond.GetEndAtom().GetIdx()\n",
    " \n",
    "        # DGL graph is undirectional\n",
    "        # Thus, we have to add edge pair of both (i,j) and (j, i)\n",
    "        # i --> j\n",
    "        graph.add_edges(src, dst)\n",
    "        bond_feature_list.append(bond_feature)\n",
    "\n",
    "        # j --> i\n",
    "        graph.add_edges(dst, src)\n",
    "        bond_feature_list.append(bond_feature)\n",
    "\n",
    "    bond_feature_list = torch.tensor(bond_feature_list, dtype=torch.float64)\n",
    "    graph.edata['e_ij'] = bond_feature_list\n",
    "    return graph"
   ]
  },
  {
   "cell_type": "code",
   "execution_count": 29,
   "id": "a3c2b299",
   "metadata": {},
   "outputs": [],
   "source": [
    "smi_ = smi_train[-1]\n",
    "g_ = get_molecular_graph(smi_)"
   ]
  },
  {
   "cell_type": "code",
   "execution_count": 30,
   "id": "e2143491",
   "metadata": {},
   "outputs": [
    {
     "data": {
      "text/plain": [
       "Graph(num_nodes=33, num_edges=68,\n",
       "      ndata_schemes={'h': Scheme(shape=(58,), dtype=torch.float64)}\n",
       "      edata_schemes={'e_ij': Scheme(shape=(6,), dtype=torch.float64)})"
      ]
     },
     "execution_count": 30,
     "metadata": {},
     "output_type": "execute_result"
    }
   ],
   "source": [
    "g_"
   ]
  },
  {
   "cell_type": "code",
   "execution_count": 31,
   "id": "ec706acc",
   "metadata": {},
   "outputs": [
    {
     "data": {
      "text/plain": [
       "tensor([[1., 0., 0.,  ..., 0., 0., 0.],\n",
       "        [0., 0., 1.,  ..., 0., 0., 0.],\n",
       "        [1., 0., 0.,  ..., 0., 0., 1.],\n",
       "        ...,\n",
       "        [1., 0., 0.,  ..., 0., 0., 1.],\n",
       "        [0., 0., 1.,  ..., 0., 0., 0.],\n",
       "        [1., 0., 0.,  ..., 0., 0., 0.]], dtype=torch.float64)"
      ]
     },
     "execution_count": 31,
     "metadata": {},
     "output_type": "execute_result"
    }
   ],
   "source": [
    "g_.ndata['h']"
   ]
  },
  {
   "cell_type": "code",
   "execution_count": 32,
   "id": "1302cd8f",
   "metadata": {},
   "outputs": [
    {
     "data": {
      "text/plain": [
       "torch.Size([33, 58])"
      ]
     },
     "execution_count": 32,
     "metadata": {},
     "output_type": "execute_result"
    }
   ],
   "source": [
    "g_.ndata['h'].shape"
   ]
  },
  {
   "cell_type": "code",
   "execution_count": 33,
   "id": "d2f62537",
   "metadata": {},
   "outputs": [
    {
     "data": {
      "text/plain": [
       "tensor([[1., 0., 0., 0., 0., 0.],\n",
       "        [1., 0., 0., 0., 0., 0.],\n",
       "        [1., 0., 0., 0., 1., 0.],\n",
       "        [1., 0., 0., 0., 1., 0.],\n",
       "        [0., 0., 0., 1., 1., 1.],\n",
       "        [0., 0., 0., 1., 1., 1.],\n",
       "        [0., 0., 0., 1., 1., 1.],\n",
       "        [0., 0., 0., 1., 1., 1.],\n",
       "        [0., 0., 0., 1., 1., 1.],\n",
       "        [0., 0., 0., 1., 1., 1.],\n",
       "        [1., 0., 0., 0., 0., 0.],\n",
       "        [1., 0., 0., 0., 0., 0.],\n",
       "        [1., 0., 0., 0., 0., 0.],\n",
       "        [1., 0., 0., 0., 0., 0.],\n",
       "        [1., 0., 0., 0., 0., 0.],\n",
       "        [1., 0., 0., 0., 0., 0.],\n",
       "        [1., 0., 0., 0., 0., 0.],\n",
       "        [1., 0., 0., 0., 0., 0.],\n",
       "        [1., 0., 0., 0., 0., 0.],\n",
       "        [1., 0., 0., 0., 0., 0.],\n",
       "        [1., 0., 0., 0., 0., 0.],\n",
       "        [1., 0., 0., 0., 0., 0.],\n",
       "        [1., 0., 0., 0., 0., 0.],\n",
       "        [1., 0., 0., 0., 0., 0.],\n",
       "        [1., 0., 0., 0., 0., 0.],\n",
       "        [1., 0., 0., 0., 0., 0.],\n",
       "        [1., 0., 0., 0., 0., 0.],\n",
       "        [1., 0., 0., 0., 0., 0.],\n",
       "        [0., 0., 1., 0., 0., 0.],\n",
       "        [0., 0., 1., 0., 0., 0.],\n",
       "        [1., 0., 0., 0., 0., 0.],\n",
       "        [1., 0., 0., 0., 0., 0.],\n",
       "        [0., 0., 0., 1., 1., 1.],\n",
       "        [0., 0., 0., 1., 1., 1.],\n",
       "        [0., 0., 0., 1., 1., 1.],\n",
       "        [0., 0., 0., 1., 1., 1.],\n",
       "        [0., 0., 0., 1., 1., 1.],\n",
       "        [0., 0., 0., 1., 1., 1.],\n",
       "        [1., 0., 0., 0., 1., 0.],\n",
       "        [1., 0., 0., 0., 1., 0.],\n",
       "        [1., 0., 0., 0., 0., 0.],\n",
       "        [1., 0., 0., 0., 0., 0.],\n",
       "        [0., 0., 0., 1., 1., 1.],\n",
       "        [0., 0., 0., 1., 1., 1.],\n",
       "        [1., 0., 0., 0., 1., 0.],\n",
       "        [1., 0., 0., 0., 1., 0.],\n",
       "        [1., 0., 0., 0., 0., 0.],\n",
       "        [1., 0., 0., 0., 0., 0.],\n",
       "        [0., 0., 0., 1., 1., 1.],\n",
       "        [0., 0., 0., 1., 1., 1.],\n",
       "        [1., 0., 0., 0., 0., 0.],\n",
       "        [1., 0., 0., 0., 0., 0.],\n",
       "        [1., 0., 0., 0., 0., 0.],\n",
       "        [1., 0., 0., 0., 0., 0.],\n",
       "        [1., 0., 0., 0., 0., 0.],\n",
       "        [1., 0., 0., 0., 0., 0.],\n",
       "        [0., 0., 0., 1., 1., 1.],\n",
       "        [0., 0., 0., 1., 1., 1.],\n",
       "        [0., 0., 0., 1., 1., 1.],\n",
       "        [0., 0., 0., 1., 1., 1.],\n",
       "        [1., 0., 0., 0., 1., 0.],\n",
       "        [1., 0., 0., 0., 1., 0.],\n",
       "        [1., 0., 0., 0., 0., 0.],\n",
       "        [1., 0., 0., 0., 0., 0.],\n",
       "        [0., 0., 0., 1., 1., 1.],\n",
       "        [0., 0., 0., 1., 1., 1.],\n",
       "        [0., 0., 0., 1., 1., 1.],\n",
       "        [0., 0., 0., 1., 1., 1.]], dtype=torch.float64)"
      ]
     },
     "execution_count": 33,
     "metadata": {},
     "output_type": "execute_result"
    }
   ],
   "source": [
    "g_.edata['e_ij']"
   ]
  },
  {
   "cell_type": "code",
   "execution_count": 34,
   "id": "d39b4063",
   "metadata": {},
   "outputs": [
    {
     "data": {
      "text/plain": [
       "torch.Size([68, 6])"
      ]
     },
     "execution_count": 34,
     "metadata": {},
     "output_type": "execute_result"
    }
   ],
   "source": [
    "g_.edata['e_ij'].shape"
   ]
  },
  {
   "cell_type": "markdown",
   "id": "f35ee2fe",
   "metadata": {},
   "source": [
    "# GNN Practice"
   ]
  },
  {
   "cell_type": "markdown",
   "id": "ff34b94b",
   "metadata": {},
   "source": [
    "# 1. GCN, GIN and GIN+E"
   ]
  },
  {
   "cell_type": "code",
   "execution_count": 35,
   "id": "625e8b07",
   "metadata": {},
   "outputs": [],
   "source": [
    "import torch.nn as nn \n",
    "import torch.nn.functional as F\n",
    "\n",
    "import dgl.function as fn\n",
    "from dgl.nn.functional import edge_softmax"
   ]
  },
  {
   "cell_type": "code",
   "execution_count": 38,
   "id": "afd62c56",
   "metadata": {},
   "outputs": [
    {
     "data": {
      "text/plain": [
       "tensor([[-0.0074, -0.2408,  0.2086,  ..., -0.2388, -0.0149, -0.0177],\n",
       "        [-0.1628,  0.0205,  0.0198,  ..., -0.0343,  0.0858, -0.3845],\n",
       "        [-0.0555, -0.2638,  0.2622,  ...,  0.1037,  0.1383, -0.0746],\n",
       "        ...,\n",
       "        [-0.0555, -0.2638,  0.2622,  ...,  0.1037,  0.1383, -0.0746],\n",
       "        [-0.1628,  0.0205,  0.0198,  ..., -0.0343,  0.0858, -0.3845],\n",
       "        [-0.0074, -0.2408,  0.2086,  ..., -0.2388, -0.0149, -0.0177]],\n",
       "       grad_fn=<MmBackward>)"
      ]
     },
     "execution_count": 38,
     "metadata": {},
     "output_type": "execute_result"
    }
   ],
   "source": [
    "h0 = g_.ndata['h'].float()\n",
    "embedding_node = nn.Linear(58, 64, bias=False)\n",
    "embedding_edge = nn.Linear(6, 64, bias=False)\n",
    "h0 = embedding_node(h0)\n",
    "g_.ndata['h'] = h0\n",
    "h0"
   ]
  },
  {
   "cell_type": "code",
   "execution_count": 39,
   "id": "95163d9f",
   "metadata": {},
   "outputs": [
    {
     "data": {
      "text/plain": [
       "torch.Size([33, 64])"
      ]
     },
     "execution_count": 39,
     "metadata": {},
     "output_type": "execute_result"
    }
   ],
   "source": [
    "h0.shape"
   ]
  },
  {
   "cell_type": "code",
   "execution_count": 40,
   "id": "c0bd9761",
   "metadata": {},
   "outputs": [],
   "source": [
    "e_ij = embedding_edge(g_.edata['e_ij'].float())\n",
    "g_.edata['e_ij'] = e_ij"
   ]
  },
  {
   "cell_type": "code",
   "execution_count": 41,
   "id": "48f73b8e",
   "metadata": {},
   "outputs": [
    {
     "data": {
      "text/plain": [
       "torch.Size([68, 64])"
      ]
     },
     "execution_count": 41,
     "metadata": {},
     "output_type": "execute_result"
    }
   ],
   "source": [
    "e_ij.shape"
   ]
  },
  {
   "cell_type": "markdown",
   "id": "86477099",
   "metadata": {},
   "source": [
    "## 1) Graph Convolution"
   ]
  },
  {
   "cell_type": "markdown",
   "id": "8007d018",
   "metadata": {},
   "source": [
    "$ h_{i}^{(l+1)} = \\sigma (W^{(l+1)} \\sum_{j \\in N(i)} h_{j}^{(l)})$"
   ]
  },
  {
   "cell_type": "markdown",
   "id": "78d45dd2",
   "metadata": {},
   "source": [
    "### u_ : sum aggregation of the adjacent node features "
   ]
  },
  {
   "cell_type": "code",
   "execution_count": 42,
   "id": "9a6e046f",
   "metadata": {},
   "outputs": [],
   "source": [
    "g_.update_all(fn.copy_u('h', 'm'), fn.sum('m', 'u_'))"
   ]
  },
  {
   "cell_type": "code",
   "execution_count": 43,
   "id": "d3bbb032",
   "metadata": {},
   "outputs": [
    {
     "data": {
      "text/plain": [
       "tensor([[-0.1628,  0.0205,  0.0198,  ..., -0.0343,  0.0858, -0.3845],\n",
       "        [-0.0629, -0.5046,  0.4708,  ..., -0.1351,  0.1234, -0.0923],\n",
       "        [-0.3833, -0.4679,  0.4130,  ..., -0.1529,  0.1644, -0.7081],\n",
       "        ...,\n",
       "        [-0.3833, -0.4679,  0.4130,  ..., -0.1529,  0.1644, -0.7081],\n",
       "        [-0.0629, -0.5046,  0.4708,  ..., -0.1351,  0.1234, -0.0923],\n",
       "        [-0.1628,  0.0205,  0.0198,  ..., -0.0343,  0.0858, -0.3845]],\n",
       "       grad_fn=<GSpMMBackward>)"
      ]
     },
     "execution_count": 43,
     "metadata": {},
     "output_type": "execute_result"
    }
   ],
   "source": [
    "u_ = g_.ndata['u_']\n",
    "u_"
   ]
  },
  {
   "cell_type": "code",
   "execution_count": 44,
   "id": "564308e7",
   "metadata": {},
   "outputs": [
    {
     "data": {
      "text/plain": [
       "torch.Size([33, 64])"
      ]
     },
     "execution_count": 44,
     "metadata": {},
     "output_type": "execute_result"
    }
   ],
   "source": [
    "u_.shape"
   ]
  },
  {
   "cell_type": "code",
   "execution_count": 45,
   "id": "80cadb15",
   "metadata": {},
   "outputs": [
    {
     "data": {
      "text/plain": [
       "torch.Size([33, 64])"
      ]
     },
     "execution_count": 45,
     "metadata": {},
     "output_type": "execute_result"
    }
   ],
   "source": [
    "g_.ndata['u_'].shape"
   ]
  },
  {
   "cell_type": "markdown",
   "id": "1b10d053",
   "metadata": {},
   "source": [
    "### Applying linear layer, non-linear activation, layer normalization, and dropout"
   ]
  },
  {
   "cell_type": "code",
   "execution_count": 46,
   "id": "dac59918",
   "metadata": {},
   "outputs": [],
   "source": [
    "linear_ = nn.Linear(64, 64, bias=False)\n",
    "norm_ = nn.LayerNorm(64)\n",
    "act_ = F.relu\n",
    "prob_ = 0.2"
   ]
  },
  {
   "cell_type": "code",
   "execution_count": 47,
   "id": "fd661175",
   "metadata": {},
   "outputs": [],
   "source": [
    "h_ = linear_(u_)"
   ]
  },
  {
   "cell_type": "code",
   "execution_count": 48,
   "id": "e84970df",
   "metadata": {},
   "outputs": [],
   "source": [
    "h_ = act_(h_) + h0 # non-linear activation (ReLU) and skip-connection"
   ]
  },
  {
   "cell_type": "code",
   "execution_count": 49,
   "id": "7e3514ea",
   "metadata": {},
   "outputs": [],
   "source": [
    "h_ = norm_(h_)"
   ]
  },
  {
   "cell_type": "code",
   "execution_count": 50,
   "id": "753687ac",
   "metadata": {},
   "outputs": [],
   "source": [
    "h_ = F.dropout(h_, p=prob_, training=False)"
   ]
  },
  {
   "cell_type": "code",
   "execution_count": 51,
   "id": "d97215d7",
   "metadata": {},
   "outputs": [],
   "source": [
    "# g_.ndata['h'] = h_ <-- update node feature, \n",
    "# but it will be omitted in this practice because we have to keep practice other GNN layers"
   ]
  },
  {
   "cell_type": "markdown",
   "id": "78d695c7",
   "metadata": {},
   "source": [
    "## 2) Graph Isomorphism"
   ]
  },
  {
   "cell_type": "markdown",
   "id": "31e0abfa",
   "metadata": {},
   "source": [
    "$ h_{i}^{(l+1)} = \\sigma (\\text{MLP}^{(l+1)} (\\sum_{j \\in N(i)} h_{j}^{(l)})) $"
   ]
  },
  {
   "cell_type": "code",
   "execution_count": 52,
   "id": "fe9fdf04",
   "metadata": {},
   "outputs": [],
   "source": [
    "class MLP(nn.Module):\n",
    "    def __init__(\n",
    "        self,\n",
    "        input_dim,\n",
    "        hidden_dim,\n",
    "        output_dim,\n",
    "        bias=True,\n",
    "        act=F.relu,\n",
    "    ):\n",
    "        super().__init__()\n",
    "        \n",
    "        self.input_dim = input_dim\n",
    "        self.hidden_dim = hidden_dim\n",
    "        self.output_dim = output_dim\n",
    "\n",
    "        self.act = act\n",
    "\n",
    "        self.linear1 = nn.Linear(input_dim, hidden_dim, bias=bias)\n",
    "        self.linear2 = nn.Linear(hidden_dim, output_dim, bias=bias)\n",
    "\n",
    "    def forward(self, h):\n",
    "        h = self.linear1(h)\n",
    "        h = self.act(h)\n",
    "        h = self.linear2(h)\n",
    "        return h"
   ]
  },
  {
   "cell_type": "markdown",
   "id": "3c449fb5",
   "metadata": {},
   "source": [
    "### u_ : sum aggregation of the adjacent node features, same as GCN practice"
   ]
  },
  {
   "cell_type": "code",
   "execution_count": 53,
   "id": "6d86a208",
   "metadata": {},
   "outputs": [
    {
     "data": {
      "text/plain": [
       "torch.Size([33, 64])"
      ]
     },
     "execution_count": 53,
     "metadata": {},
     "output_type": "execute_result"
    }
   ],
   "source": [
    "g_.update_all(fn.copy_u('h', 'm'), fn.sum('m', 'u_'))\n",
    "u_ = g_.ndata['u_']\n",
    "u_.shape"
   ]
  },
  {
   "cell_type": "code",
   "execution_count": 54,
   "id": "6ab7afb5",
   "metadata": {},
   "outputs": [],
   "source": [
    "### Applying linear layer, non-linear activation, layer normalization, and dropout"
   ]
  },
  {
   "cell_type": "code",
   "execution_count": 55,
   "id": "c4634c79",
   "metadata": {},
   "outputs": [],
   "source": [
    "mlp_ = MLP(\n",
    "    input_dim=64, \n",
    "    hidden_dim=64*4, \n",
    "    output_dim=64,\n",
    ")\n",
    "norm_ = nn.LayerNorm(64)\n",
    "act_ = F.relu\n",
    "prob_ = 0.2"
   ]
  },
  {
   "cell_type": "code",
   "execution_count": 56,
   "id": "3a1e3cdb",
   "metadata": {},
   "outputs": [],
   "source": [
    "h_ = mlp_(u_)\n",
    "h_ = act_(h_) + h0 # non-linear activation (ReLU) and skip-connection\n",
    "h_ = norm_(h_)\n",
    "h_ = F.dropout(h_, p=prob_, training=False)"
   ]
  },
  {
   "cell_type": "code",
   "execution_count": 57,
   "id": "781acb1c",
   "metadata": {},
   "outputs": [],
   "source": [
    "# g_.ndata['h'] = h_ <-- update node feature, \n",
    "# but it will be omitted in this practice because we have to keep practice other GNN layers"
   ]
  },
  {
   "cell_type": "markdown",
   "id": "6b4d320b",
   "metadata": {},
   "source": [
    "## 3) Graph Isomorphism w/ edge features"
   ]
  },
  {
   "cell_type": "markdown",
   "id": "6047bba3",
   "metadata": {},
   "source": [
    "$ h_{i}^{(l+1)} = \\sigma (\\text{MLP}^{(l+1)} (\\sum_{j \\in N(i)} h_{j}^{(l)} + e_{ij}^{(l)})) $"
   ]
  },
  {
   "cell_type": "markdown",
   "id": "6891e5c3",
   "metadata": {},
   "source": [
    "### u_ : sum aggregation of the adjacent node features, same as GCN practice\n",
    "### e_ : sum aggregation of the edges connected to the center atoms"
   ]
  },
  {
   "cell_type": "code",
   "execution_count": 58,
   "id": "e44e60f5",
   "metadata": {},
   "outputs": [
    {
     "data": {
      "text/plain": [
       "torch.Size([33, 64])"
      ]
     },
     "execution_count": 58,
     "metadata": {},
     "output_type": "execute_result"
    }
   ],
   "source": [
    "g_.update_all(fn.copy_u('h', 'm'), fn.sum('m', 'u_'))\n",
    "u_ = g_.ndata['u_']\n",
    "u_.shape"
   ]
  },
  {
   "cell_type": "code",
   "execution_count": 59,
   "id": "d2f2d488",
   "metadata": {},
   "outputs": [
    {
     "data": {
      "text/plain": [
       "torch.Size([33, 64])"
      ]
     },
     "execution_count": 59,
     "metadata": {},
     "output_type": "execute_result"
    }
   ],
   "source": [
    "g_.update_all(fn.copy_edge('e_ij', 'm_e'), fn.sum('m_e', 'e_'))\n",
    "e_ = g_.ndata['e_']\n",
    "e_.shape"
   ]
  },
  {
   "cell_type": "code",
   "execution_count": 61,
   "id": "a11e5f67",
   "metadata": {},
   "outputs": [],
   "source": [
    "h_ = g_.ndata['u_'] + g_.ndata['e_']"
   ]
  },
  {
   "cell_type": "code",
   "execution_count": 62,
   "id": "2c35492a",
   "metadata": {},
   "outputs": [],
   "source": [
    "h_ = mlp_(u_)\n",
    "h_ = act_(h_) + h0 # non-linear activation (ReLU) and skip-connection\n",
    "h_ = norm_(h_)\n",
    "h_ = F.dropout(h_, p=prob_, training=False)"
   ]
  },
  {
   "cell_type": "code",
   "execution_count": 63,
   "id": "fb1bf6c9",
   "metadata": {},
   "outputs": [
    {
     "data": {
      "text/plain": [
       "torch.Size([33, 64])"
      ]
     },
     "execution_count": 63,
     "metadata": {},
     "output_type": "execute_result"
    }
   ],
   "source": [
    "h_.shape"
   ]
  },
  {
   "cell_type": "code",
   "execution_count": null,
   "id": "5441236b",
   "metadata": {},
   "outputs": [],
   "source": []
  }
 ],
 "metadata": {
  "kernelspec": {
   "display_name": "Python 3 (ipykernel)",
   "language": "python",
   "name": "python3"
  },
  "language_info": {
   "codemirror_mode": {
    "name": "ipython",
    "version": 3
   },
   "file_extension": ".py",
   "mimetype": "text/x-python",
   "name": "python",
   "nbconvert_exporter": "python",
   "pygments_lexer": "ipython3",
   "version": "3.7.10"
  }
 },
 "nbformat": 4,
 "nbformat_minor": 5
}
